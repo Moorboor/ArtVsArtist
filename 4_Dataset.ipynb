{
 "cells": [
  {
   "cell_type": "code",
   "execution_count": 1,
   "metadata": {},
   "outputs": [],
   "source": [
    "import torch\n",
    "import torch_directml\n",
    "import os\n",
    "from torchvision import transforms\n",
    "from PIL import Image\n",
    "import numpy as np\n",
    "from icecream import icecream"
   ]
  },
  {
   "cell_type": "code",
   "execution_count": 2,
   "metadata": {},
   "outputs": [],
   "source": [
    "dml = torch_directml.device()\n",
    "tensor1 = torch.tensor([1]).to(dml) # Note that dml is a variable, not a string!\n",
    "tensor2 = torch.tensor([2]).to(dml)"
   ]
  },
  {
   "cell_type": "code",
   "execution_count": 3,
   "metadata": {},
   "outputs": [
    {
     "data": {
      "text/plain": [
       "3"
      ]
     },
     "execution_count": 3,
     "metadata": {},
     "output_type": "execute_result"
    }
   ],
   "source": [
    "dml_algebra = tensor1 + tensor2\n",
    "dml_algebra.item()"
   ]
  },
  {
   "cell_type": "code",
   "execution_count": 4,
   "metadata": {},
   "outputs": [],
   "source": [
    "ABS_PATH = os.path.abspath(\"\")\n",
    "DOWNLOAD_PATH = os.path.join(ABS_PATH, \"downloads\")\n"
   ]
  },
  {
   "cell_type": "code",
   "execution_count": 116,
   "metadata": {},
   "outputs": [],
   "source": [
    "def preprocess_image(img):\n",
    "\n",
    "    desired_size = (7,7)\n",
    "    resize_transform = transforms.Resize(desired_size, antialias=True)\n",
    "    resized_image = resize_transform(img)\n",
    "\n",
    "    return resized_image"
   ]
  },
  {
   "cell_type": "code",
   "execution_count": 117,
   "metadata": {},
   "outputs": [],
   "source": [
    "class CustomImageDataset(torch.utils.data.Dataset):\n",
    "\n",
    "    def __init__(self, root_dir, transform=None):\n",
    "        self.root_dir = root_dir\n",
    "        self.transform = transform\n",
    "\n",
    "        self.img_paths = []\n",
    "        self.img_label_path = []\n",
    "\n",
    "        for root, _, files in os.walk(DOWNLOAD_PATH):\n",
    "            if not root.endswith(\"split\"):\n",
    "                continue\n",
    "            \n",
    "            img_paths = [os.path.join(root, name) for name in files if name!=\"4.jpg\"]\n",
    "            self.img_paths.extend(img_paths)\n",
    "            self.img_label_path.append(os.path.join(root, \"4.jpg\"))\n",
    "\n",
    "\n",
    "    def __len__(self):\n",
    "        return len(self.img_paths)\n",
    "\n",
    "    def __getitem__(self, idx):\n",
    "        img_path = self.img_paths[idx]\n",
    "        img_label_path = self.img_label_path[int(idx/8)]\n",
    "        img = Image.open(img_path)\n",
    "        img_label = Image.open(img_label_path)\n",
    "\n",
    "        if self.transform:\n",
    "            img = self.transform(img)\n",
    "            img_label = self.transform(img_label)\n",
    "\n",
    "        return img, img_label\n",
    "    \n",
    "dataset = CustomImageDataset(root_dir=DOWNLOAD_PATH, transform=preprocess_image)"
   ]
  },
  {
   "cell_type": "code",
   "execution_count": 120,
   "metadata": {},
   "outputs": [
    {
     "data": {
      "text/plain": [
       "(-0.5, 6.5, 6.5, -0.5)"
      ]
     },
     "execution_count": 120,
     "metadata": {},
     "output_type": "execute_result"
    },
    {
     "data": {
      "image/png": "[encoded data removed]",
      "text/plain": [
       "<Figure size 640x480 with 2 Axes>"
      ]
     },
     "metadata": {},
     "output_type": "display_data"
    }
   ],
   "source": [
    "img, label = dataset[14]\n",
    "\n",
    "import matplotlib.pyplot as plt\n",
    "fig, (ax1, ax2) = plt.subplots(1,2)\n",
    "ax1.imshow(img.convert(\"L\"), cmap=\"gray\")\n",
    "ax1.axis(\"off\")\n",
    "ax2.imshow(label.convert(\"L\"), cmap=\"gray\")\n",
    "ax2.axis(\"off\")"
   ]
  },
  {
   "cell_type": "code",
   "execution_count": null,
   "metadata": {},
   "outputs": [],
   "source": []
  },
  {
   "cell_type": "code",
   "execution_count": null,
   "metadata": {},
   "outputs": [],
   "source": []
  }
 ],
 "metadata": {
  "kernelspec": {
   "display_name": "torch",
   "language": "python",
   "name": "python3"
  },
  "language_info": {
   "codemirror_mode": {
    "name": "ipython",
    "version": 3
   },
   "file_extension": ".py",
   "mimetype": "text/x-python",
   "name": "python",
   "nbconvert_exporter": "python",
   "pygments_lexer": "ipython3",
   "version": "3.10.13"
  }
 },
 "nbformat": 4,
 "nbformat_minor": 2
}
